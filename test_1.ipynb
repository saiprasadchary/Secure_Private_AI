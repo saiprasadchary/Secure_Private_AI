{
  "cells": [
    {
      "cell_type": "code",
      "execution_count": 3,
      "metadata": {
        "colab": {
          "base_uri": "https://localhost:8080/"
        },
        "id": "EDd-zY4kr_Ll",
        "outputId": "9b11ba9d-775b-4971-ff02-1b7df01cac35"
      },
      "outputs": [
        {
          "name": "stdout",
          "output_type": "stream",
          "text": [
            "313/313 [==============================] - 23s 73ms/step - loss: 0.5420 - accuracy: 0.8572\n",
            "Test Loss: 0.541983962059021\n",
            "Test Accuracy: 0.857200026512146\n"
          ]
        }
      ],
      "source": [
        "import tensorflow as tf\n",
        "from tensorflow.keras.datasets import cifar10\n",
        "from tensorflow.keras.models import load_model\n",
        "from tensorflow.keras.utils import to_categorical\n",
        "\n",
        "# Load the model\n",
        "model = load_model('/content/trained_model_1.h5')  # Replace with the actual path to your model file\n",
        "\n",
        "# Load the CIFAR-10 test dataset\n",
        "(_, _), (test_images, test_labels) = cifar10.load_data()\n",
        "\n",
        "# Normalize pixel values to be between 0 and 1\n",
        "test_images = test_images.astype('float32') / 255.0\n",
        "\n",
        "# Ensure that the test labels are in the correct format\n",
        "test_labels = test_labels.squeeze()  # Remove unnecessary dimensions if present\n",
        "\n",
        "# Convert labels to one-hot encoding\n",
        "test_labels = to_categorical(test_labels, 10)  # Convert labels to one-hot, assuming 10 classes\n",
        "\n",
        "# Evaluate the model on the test dataset\n",
        "loss, accuracy = model.evaluate(test_images, test_labels, verbose=1)\n",
        "print(f\"Test Loss: {loss}\")\n",
        "print(f\"Test Accuracy: {accuracy}\")\n"
      ]
    }
  ],
  "metadata": {
    "colab": {
      "provenance": []
    },
    "kernelspec": {
      "display_name": "Python 3",
      "name": "python3"
    },
    "language_info": {
      "name": "python"
    }
  },
  "nbformat": 4,
  "nbformat_minor": 0
}

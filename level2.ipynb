{
  "cells": [
    {
      "cell_type": "markdown",
      "metadata": {
        "id": "R-zf02S7iDkm"
      },
      "source": [
        "# Federated Learning Model"
      ]
    },
    {
      "cell_type": "markdown",
      "metadata": {
        "id": "blN5lYTijR0q"
      },
      "source": [
        "## Created FL Model\n",
        "\n",
        "\n",
        "*  3 Layer Conv2D Architecture\n",
        "*  Data Distribution: Number of agents used = 5\n",
        "*  Number of Epochs Per Agent = 10\n",
        "*  Aggregation\n",
        "*  Global Model\n",
        "\n",
        "\n",
        "**Imports**:\n",
        "\n",
        "\n",
        "1.   Tensorflow\n",
        "2.   Keras\n",
        "3.   Numpy"
      ]
    },
    {
      "cell_type": "code",
      "execution_count": null,
      "metadata": {
        "id": "6XYMVfOck9va"
      },
      "outputs": [],
      "source": [
        "# Authors: Sai Prasad, Purnima Sai Koumudi\n",
        "# Model saved time: 04/24\n",
        "\n",
        "import numpy as np\n",
        "import tensorflow as tf\n",
        "from tensorflow.keras import layers, models"
      ]
    },
    {
      "cell_type": "markdown",
      "metadata": {
        "id": "8ffyjtrElNBD"
      },
      "source": [
        "**Downloading the dataset (CIFAR 10)**\n",
        "\n",
        "Data Preprossing"
      ]
    },
    {
      "cell_type": "code",
      "execution_count": null,
      "metadata": {
        "id": "YPolSEw8k_Ub"
      },
      "outputs": [],
      "source": [
        "# Loading and normalizing the CIFAR-10 dataset\n",
        "def load_and_preprocess_data():\n",
        "    (x_train, y_train), (x_test, y_test) = tf.keras.datasets.cifar10.load_data()\n",
        "    x_train, x_test = x_train / 255.0, x_test / 255.0\n",
        "    return x_train, y_train, x_test, y_test"
      ]
    },
    {
      "cell_type": "markdown",
      "metadata": {
        "id": "JIMhdCcAlbdB"
      },
      "source": [
        "**CNN Model Architecture**\n",
        "\n",
        "Activation: RELU"
      ]
    },
    {
      "cell_type": "code",
      "execution_count": null,
      "metadata": {
        "id": "MNv3FVDglAer"
      },
      "outputs": [],
      "source": [
        "# Creating the CNN model architecture\n",
        "def create_cnn_model():\n",
        "    model = models.Sequential([\n",
        "        layers.Conv2D(64, (3, 3), activation='relu', input_shape=(32, 32, 3)),\n",
        "        layers.MaxPooling2D((2, 2)),\n",
        "        layers.Conv2D(128, (3, 3), activation='relu'),\n",
        "        layers.MaxPooling2D((2, 2)),\n",
        "        layers.Conv2D(128, (3, 3), activation='relu'),\n",
        "        layers.Flatten(),\n",
        "        layers.Dense(128, activation='relu'),\n",
        "        layers.Dense(10)  # Output layer for 10 classes\n",
        "    ])\n",
        "    return model"
      ]
    },
    {
      "cell_type": "markdown",
      "metadata": {
        "id": "rYozL0gWlnYE"
      },
      "source": [
        "**Loss used: Sparse Categorical Crossentropy**\n",
        "\n"
      ]
    },
    {
      "cell_type": "code",
      "execution_count": null,
      "metadata": {
        "id": "4e-GY7zylCsZ"
      },
      "outputs": [],
      "source": [
        "# Function to compile and train the model\n",
        "def compile_and_train(model, x_train, y_train, epochs=10):\n",
        "    model.compile(optimizer='adam', loss=tf.keras.losses.SparseCategoricalCrossentropy(from_logits=True), metrics=['accuracy'])\n",
        "    model.fit(x_train, y_train, epochs=epochs)"
      ]
    },
    {
      "cell_type": "markdown",
      "metadata": {
        "id": "Rkpwv8WPlvH4"
      },
      "source": [
        "Defining Federated Learning\n",
        "\n",
        "1. Num of agents defined = 5\n",
        "2. Getting Global Model\n",
        "3. Evaluating the model defined\n",
        "4. Test Accuracy Calculation"
      ]
    },
    {
      "cell_type": "code",
      "execution_count": null,
      "metadata": {
        "colab": {
          "base_uri": "https://localhost:8080/"
        },
        "id": "JoLX4A8zoyOv",
        "outputId": "489aec41-09d5-4b40-cf34-f0ae80c22cdb"
      },
      "outputs": [
        {
          "name": "stdout",
          "output_type": "stream",
          "text": [
            "Epoch 1/10\n",
            "313/313 [==============================] - 31s 97ms/step - loss: 1.8614 - accuracy: 0.2966\n",
            "Epoch 2/10\n",
            "313/313 [==============================] - 31s 100ms/step - loss: 1.4800 - accuracy: 0.4613\n",
            "Epoch 3/10\n",
            "313/313 [==============================] - 30s 96ms/step - loss: 1.3097 - accuracy: 0.5302\n",
            "Epoch 4/10\n",
            "313/313 [==============================] - 30s 96ms/step - loss: 1.1575 - accuracy: 0.5886\n",
            "Epoch 5/10\n",
            "313/313 [==============================] - 31s 100ms/step - loss: 1.0650 - accuracy: 0.6223\n",
            "Epoch 6/10\n",
            "313/313 [==============================] - 30s 97ms/step - loss: 0.9299 - accuracy: 0.6730\n",
            "Epoch 7/10\n",
            "313/313 [==============================] - 30s 96ms/step - loss: 0.8266 - accuracy: 0.7078\n",
            "Epoch 8/10\n",
            "313/313 [==============================] - 32s 101ms/step - loss: 0.7101 - accuracy: 0.7469\n",
            "Epoch 9/10\n",
            "313/313 [==============================] - 30s 96ms/step - loss: 0.5991 - accuracy: 0.7900\n",
            "Epoch 10/10\n",
            "313/313 [==============================] - 31s 99ms/step - loss: 0.5005 - accuracy: 0.8249\n",
            "Epoch 1/10\n",
            "313/313 [==============================] - 31s 97ms/step - loss: 1.2120 - accuracy: 0.5718\n",
            "Epoch 2/10\n",
            "313/313 [==============================] - 31s 100ms/step - loss: 1.0021 - accuracy: 0.6534\n",
            "Epoch 3/10\n",
            "313/313 [==============================] - 30s 97ms/step - loss: 0.8881 - accuracy: 0.6924\n",
            "Epoch 4/10\n",
            "313/313 [==============================] - 31s 99ms/step - loss: 0.7630 - accuracy: 0.7305\n",
            "Epoch 5/10\n",
            "313/313 [==============================] - 31s 98ms/step - loss: 0.6513 - accuracy: 0.7724\n",
            "Epoch 6/10\n",
            "313/313 [==============================] - 30s 97ms/step - loss: 0.5482 - accuracy: 0.8076\n",
            "Epoch 7/10\n",
            "313/313 [==============================] - 31s 100ms/step - loss: 0.4201 - accuracy: 0.8550\n",
            "Epoch 8/10\n",
            "313/313 [==============================] - 30s 97ms/step - loss: 0.3294 - accuracy: 0.8854\n",
            "Epoch 9/10\n",
            "313/313 [==============================] - 30s 97ms/step - loss: 0.2406 - accuracy: 0.9189\n",
            "Epoch 10/10\n",
            "313/313 [==============================] - 35s 113ms/step - loss: 0.1862 - accuracy: 0.9351\n",
            "Epoch 1/10\n",
            "313/313 [==============================] - 33s 101ms/step - loss: 1.0223 - accuracy: 0.6403\n",
            "Epoch 2/10\n",
            "313/313 [==============================] - 30s 97ms/step - loss: 0.8087 - accuracy: 0.7193\n",
            "Epoch 3/10\n",
            "313/313 [==============================] - 30s 97ms/step - loss: 0.6785 - accuracy: 0.7669\n",
            "Epoch 4/10\n",
            "313/313 [==============================] - 31s 100ms/step - loss: 0.5202 - accuracy: 0.8196\n",
            "Epoch 5/10\n",
            "313/313 [==============================] - 30s 97ms/step - loss: 0.4195 - accuracy: 0.8542\n",
            "Epoch 6/10\n",
            "313/313 [==============================] - 31s 98ms/step - loss: 0.2822 - accuracy: 0.9063\n",
            "Epoch 7/10\n",
            "313/313 [==============================] - 31s 98ms/step - loss: 0.2152 - accuracy: 0.9297\n",
            "Epoch 8/10\n",
            "313/313 [==============================] - 30s 97ms/step - loss: 0.1525 - accuracy: 0.9488\n",
            "Epoch 9/10\n",
            "313/313 [==============================] - 31s 101ms/step - loss: 0.1249 - accuracy: 0.9597\n",
            "Epoch 10/10\n",
            "313/313 [==============================] - 30s 97ms/step - loss: 0.1038 - accuracy: 0.9658\n",
            "Epoch 1/10\n",
            "313/313 [==============================] - 32s 100ms/step - loss: 1.0029 - accuracy: 0.6597\n",
            "Epoch 2/10\n",
            "313/313 [==============================] - 30s 97ms/step - loss: 0.7612 - accuracy: 0.7375\n",
            "Epoch 3/10\n",
            "313/313 [==============================] - 31s 98ms/step - loss: 0.5843 - accuracy: 0.8034\n",
            "Epoch 4/10\n",
            "313/313 [==============================] - 31s 99ms/step - loss: 0.4281 - accuracy: 0.8547\n",
            "Epoch 5/10\n",
            "313/313 [==============================] - 30s 96ms/step - loss: 0.2928 - accuracy: 0.9036\n",
            "Epoch 6/10\n",
            "313/313 [==============================] - 31s 101ms/step - loss: 0.1954 - accuracy: 0.9370\n",
            "Epoch 7/10\n",
            "313/313 [==============================] - 30s 97ms/step - loss: 0.1260 - accuracy: 0.9606\n",
            "Epoch 8/10\n",
            "313/313 [==============================] - 30s 97ms/step - loss: 0.1127 - accuracy: 0.9635\n",
            "Epoch 9/10\n",
            "313/313 [==============================] - 31s 100ms/step - loss: 0.1075 - accuracy: 0.9666\n",
            "Epoch 10/10\n",
            "313/313 [==============================] - 30s 96ms/step - loss: 0.0702 - accuracy: 0.9803\n",
            "Epoch 1/10\n",
            "313/313 [==============================] - 32s 96ms/step - loss: 0.9622 - accuracy: 0.6771\n",
            "Epoch 2/10\n",
            "313/313 [==============================] - 30s 96ms/step - loss: 0.6767 - accuracy: 0.7700\n",
            "Epoch 3/10\n",
            "313/313 [==============================] - 31s 100ms/step - loss: 0.4870 - accuracy: 0.8355\n",
            "Epoch 4/10\n",
            "313/313 [==============================] - 30s 97ms/step - loss: 0.3330 - accuracy: 0.8873\n",
            "Epoch 5/10\n",
            "313/313 [==============================] - 30s 97ms/step - loss: 0.1973 - accuracy: 0.9344\n",
            "Epoch 6/10\n",
            "313/313 [==============================] - 31s 100ms/step - loss: 0.1363 - accuracy: 0.9569\n",
            "Epoch 7/10\n",
            "313/313 [==============================] - 30s 96ms/step - loss: 0.1091 - accuracy: 0.9658\n",
            "Epoch 8/10\n",
            "313/313 [==============================] - 31s 100ms/step - loss: 0.0849 - accuracy: 0.9729\n",
            "Epoch 9/10\n",
            "313/313 [==============================] - 31s 98ms/step - loss: 0.0761 - accuracy: 0.9744\n",
            "Epoch 10/10\n",
            "313/313 [==============================] - 30s 97ms/step - loss: 0.0717 - accuracy: 0.9766\n",
            "313/313 [==============================] - 8s 24ms/step - loss: 1.1724 - accuracy: 0.7092\n",
            "Test set accuracy: 70.92%\n"
          ]
        }
      ],
      "source": [
        "# Implementing federated learning\n",
        "def federated_learning(x_train, y_train, num_clients=5):\n",
        "    x_train_clients = np.array_split(x_train, num_clients)\n",
        "    y_train_clients = np.array_split(y_train, num_clients)\n",
        "    global_model = create_cnn_model()\n",
        "\n",
        "    for x_train, y_train in zip(x_train_clients, y_train_clients):\n",
        "        local_model = create_cnn_model()\n",
        "        local_model.set_weights(global_model.get_weights())\n",
        "        compile_and_train(local_model, x_train, y_train)\n",
        "        updated_weights = [(g + l) / 2 for g, l in zip(global_model.get_weights(), local_model.get_weights())]\n",
        "        global_model.set_weights(updated_weights)\n",
        "\n",
        "    return global_model\n",
        "\n",
        "x_train, y_train, x_test, y_test = load_and_preprocess_data()\n",
        "global_model = federated_learning(x_train, y_train)\n",
        "\n",
        "# Compile the global model before evaluation\n",
        "global_model.compile(optimizer='adam',\n",
        "                     loss=tf.keras.losses.SparseCategoricalCrossentropy(from_logits=True),\n",
        "                     metrics=['accuracy'])\n",
        "\n",
        "test_loss, test_accuracy = global_model.evaluate(x_test, y_test)\n",
        "print(f'Test set accuracy: {test_accuracy * 100:.2f}%')\n"
      ]
    },
    {
      "cell_type": "markdown",
      "metadata": {
        "id": "7uJ_L4A-mNe6"
      },
      "source": [
        "**Model Saving Checkpoint**"
      ]
    },
    {
      "cell_type": "code",
      "execution_count": null,
      "metadata": {
        "colab": {
          "base_uri": "https://localhost:8080/"
        },
        "id": "1vkCa-MCH8o0",
        "outputId": "2dd26ed8-7cc4-4bff-ff48-9016e6a967fd"
      },
      "outputs": [
        {
          "name": "stderr",
          "output_type": "stream",
          "text": [
            "/usr/local/lib/python3.10/dist-packages/keras/src/engine/training.py:3103: UserWarning: You are saving your model as an HDF5 file via `model.save()`. This file format is considered legacy. We recommend using instead the native Keras format, e.g. `model.save('my_model.keras')`.\n",
            "  saving_api.save_model(\n"
          ]
        }
      ],
      "source": [
        "global_model.save(\"trained_model_2.h5\")"
      ]
    }
  ],
  "metadata": {
    "colab": {
      "provenance": []
    },
    "kernelspec": {
      "display_name": "Python 3",
      "name": "python3"
    },
    "language_info": {
      "name": "python"
    }
  },
  "nbformat": 4,
  "nbformat_minor": 0
}

{
  "cells": [
    {
      "cell_type": "code",
      "execution_count": 2,
      "metadata": {
        "colab": {
          "base_uri": "https://localhost:8080/"
        },
        "id": "KW-0k-bTreeP",
        "outputId": "956c27b2-80d0-4c1a-899c-299bbecf6b5d"
      },
      "outputs": [
        {
          "name": "stdout",
          "output_type": "stream",
          "text": [
            "313/313 [==============================] - 10s 31ms/step - loss: 1.1724 - accuracy: 0.7092\n",
            "Test Loss: 1.1724\n",
            "Test Accuracy: 70.92%\n"
          ]
        }
      ],
      "source": [
        "import tensorflow as tf\n",
        "from tensorflow.keras.datasets import cifar10\n",
        "from tensorflow.keras.models import load_model\n",
        "\n",
        "# Load and preprocess the CIFAR-10 test dataset\n",
        "def load_and_preprocess_test_data():\n",
        "    # Load CIFAR-10 test dataset\n",
        "    (_, _), (x_test, y_test) = cifar10.load_data()\n",
        "\n",
        "    # Normalize pixel values to be between 0 and 1\n",
        "    x_test = x_test.astype('float32') / 255.0\n",
        "\n",
        "    # Ensure the labels are in the correct format for 'SparseCategoricalCrossentropy'\n",
        "    # Since 'SparseCategoricalCrossentropy' expects labels to be integers, no need for one-hot encoding\n",
        "    return x_test, y_test\n",
        "\n",
        "# Load the test data\n",
        "x_test, y_test = load_and_preprocess_test_data()\n",
        "\n",
        "# Load the trained federated model\n",
        "model_path = '/content/trained_model_2.h5'  # Make sure the path is correct\n",
        "global_model = load_model(model_path)\n",
        "\n",
        "# Evaluate the model on the test data\n",
        "test_loss, test_accuracy = global_model.evaluate(x_test, y_test, verbose=1)\n",
        "print(f\"Test Loss: {test_loss:.4f}\")\n",
        "print(f\"Test Accuracy: {test_accuracy * 100:.2f}%\")\n"
      ]
    }
  ],
  "metadata": {
    "colab": {
      "provenance": []
    },
    "kernelspec": {
      "display_name": "Python 3",
      "name": "python3"
    },
    "language_info": {
      "name": "python"
    }
  },
  "nbformat": 4,
  "nbformat_minor": 0
}

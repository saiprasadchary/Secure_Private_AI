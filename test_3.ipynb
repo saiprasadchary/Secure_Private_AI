{
  "cells": [
    {
      "cell_type": "code",
      "execution_count": 1,
      "metadata": {
        "colab": {
          "base_uri": "https://localhost:8080/"
        },
        "id": "Wc4zFWPSqyTu",
        "outputId": "9cb1c9e5-2aab-4aa5-de03-74e305f46162"
      },
      "outputs": [
        {
          "name": "stdout",
          "output_type": "stream",
          "text": [
            "Downloading data from https://www.cs.toronto.edu/~kriz/cifar-10-python.tar.gz\n",
            "170498071/170498071 [==============================] - 3s 0us/step\n",
            "313/313 [==============================] - 14s 43ms/step - loss: 1.1300 - accuracy: 0.5950\n",
            "Test Loss: 1.1299853324890137\n",
            "Test Accuracy: 0.5950000286102295\n"
          ]
        }
      ],
      "source": [
        "import tensorflow as tf\n",
        "from tensorflow.keras.datasets import cifar10\n",
        "from tensorflow.keras.models import load_model\n",
        "from tensorflow.keras.utils import to_categorical\n",
        "\n",
        "# Load the model\n",
        "model_path = '/content/trained_model_3.h5'  # Ensure this path is correct\n",
        "model = load_model(model_path)\n",
        "\n",
        "# Load the CIFAR-10 test dataset\n",
        "(_, _), (test_images, test_labels) = cifar10.load_data()\n",
        "\n",
        "# Normalize pixel values to be between 0 and 1\n",
        "test_images = test_images.astype('float32') / 255.0\n",
        "\n",
        "# Convert test labels to one-hot encoding\n",
        "test_labels = to_categorical(test_labels, num_classes=10)\n",
        "\n",
        "# Evaluate the model on the test dataset\n",
        "loss, accuracy = model.evaluate(test_images, test_labels, verbose=1)\n",
        "print(f\"Test Loss: {loss}\")\n",
        "print(f\"Test Accuracy: {accuracy}\")\n"
      ]
    }
  ],
  "metadata": {
    "colab": {
      "provenance": []
    },
    "kernelspec": {
      "display_name": "Python 3",
      "name": "python3"
    },
    "language_info": {
      "name": "python"
    }
  },
  "nbformat": 4,
  "nbformat_minor": 0
}
